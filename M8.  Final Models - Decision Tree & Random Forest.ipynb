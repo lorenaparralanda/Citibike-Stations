{
 "cells": [
  {
   "cell_type": "markdown",
   "metadata": {},
   "source": [
    "# FINAL MODELS"
   ]
  },
  {
   "cell_type": "code",
   "execution_count": 24,
   "metadata": {
    "collapsed": false
   },
   "outputs": [],
   "source": [
    "import os\n",
    "import pandas as pd\n",
    "import numpy as np\n",
    "import csv\n",
    "from random import randint, uniform\n",
    "from datetime import datetime\n",
    "from urllib import urlretrieve\n",
    "from zipfile import ZipFile\n",
    "\n",
    "%matplotlib inline\n",
    "import matplotlib.pyplot as plt\n",
    "import seaborn as sns\n",
    "plt.style.use('bmh')\n",
    "plt.rcParams['figure.figsize'] = (10.0, 10.0)\n",
    "\n",
    "import requests\n",
    "import re\n",
    "import requests\n",
    "import statsmodels.api as sm\n",
    "import statsmodels.formula.api as smf\n",
    "import patsy\n",
    "from seaborn import plt\n",
    "from sklearn import metrics\n",
    "from sklearn.preprocessing import PolynomialFeatures\n",
    "from sklearn.pipeline import make_pipeline\n",
    "from sklearn.cross_validation import train_test_split\n",
    "from sklearn.cross_validation import KFold\n",
    "from sklearn.metrics import accuracy_score\n",
    "from sklearn import preprocessing\n",
    "from sklearn.tree import DecisionTreeClassifier\n",
    "from sklearn.ensemble import RandomForestClassifier\n",
    "from sklearn.metrics import classification_report\n",
    "from sklearn.metrics import accuracy_score, precision_score, recall_score, f1_score\n",
    "from sklearn.cross_validation import cross_val_score\n",
    "from sklearn.model_selection import GridSearchCV\n",
    "from sklearn.tree import DecisionTreeClassifier\n",
    "from sklearn.metrics import roc_auc_score\n",
    "from sklearn.datasets import make_classification\n",
    "from sklearn.decomposition import PCA\n",
    "from imblearn.over_sampling import SMOTE\n",
    "from sklearn.grid_search import GridSearchCV\n",
    "% matplotlib inline\n",
    "\n",
    "import warnings"
   ]
  },
  {
   "cell_type": "code",
   "execution_count": 25,
   "metadata": {
    "collapsed": false
   },
   "outputs": [
    {
     "data": {
      "text/html": [
       "<div>\n",
       "<table border=\"1\" class=\"dataframe\">\n",
       "  <thead>\n",
       "    <tr style=\"text-align: right;\">\n",
       "      <th></th>\n",
       "      <th>id</th>\n",
       "      <th>index</th>\n",
       "      <th>assemdist</th>\n",
       "      <th>atomicid</th>\n",
       "      <th>borough</th>\n",
       "      <th>censusbloc</th>\n",
       "      <th>censustrac</th>\n",
       "      <th>commdist</th>\n",
       "      <th>electdist</th>\n",
       "      <th>schooldist</th>\n",
       "      <th>...</th>\n",
       "      <th>wealthy</th>\n",
       "      <th>id.6</th>\n",
       "      <th>atomicid.3</th>\n",
       "      <th>mta1_distance</th>\n",
       "      <th>mta2_distance</th>\n",
       "      <th>mta3_distance</th>\n",
       "      <th>id.7</th>\n",
       "      <th>mtaid</th>\n",
       "      <th>atomicid.4</th>\n",
       "      <th>mtaindex</th>\n",
       "    </tr>\n",
       "  </thead>\n",
       "  <tbody>\n",
       "    <tr>\n",
       "      <th>0</th>\n",
       "      <td>7</td>\n",
       "      <td>6</td>\n",
       "      <td>62</td>\n",
       "      <td>5024402341</td>\n",
       "      <td>5</td>\n",
       "      <td>3033</td>\n",
       "      <td>24400</td>\n",
       "      <td>503</td>\n",
       "      <td>1</td>\n",
       "      <td>31</td>\n",
       "      <td>...</td>\n",
       "      <td>25618.318672</td>\n",
       "      <td>6</td>\n",
       "      <td>5024402341</td>\n",
       "      <td>0.247122</td>\n",
       "      <td>0.252040</td>\n",
       "      <td>0.257438</td>\n",
       "      <td>NaN</td>\n",
       "      <td>NaN</td>\n",
       "      <td>NaN</td>\n",
       "      <td>NaN</td>\n",
       "    </tr>\n",
       "    <tr>\n",
       "      <th>1</th>\n",
       "      <td>10</td>\n",
       "      <td>9</td>\n",
       "      <td>62</td>\n",
       "      <td>5024402337</td>\n",
       "      <td>5</td>\n",
       "      <td>3029</td>\n",
       "      <td>24400</td>\n",
       "      <td>503</td>\n",
       "      <td>1</td>\n",
       "      <td>31</td>\n",
       "      <td>...</td>\n",
       "      <td>25618.318672</td>\n",
       "      <td>9</td>\n",
       "      <td>5024402337</td>\n",
       "      <td>0.243684</td>\n",
       "      <td>0.248622</td>\n",
       "      <td>0.254037</td>\n",
       "      <td>NaN</td>\n",
       "      <td>NaN</td>\n",
       "      <td>NaN</td>\n",
       "      <td>NaN</td>\n",
       "    </tr>\n",
       "    <tr>\n",
       "      <th>2</th>\n",
       "      <td>18</td>\n",
       "      <td>17</td>\n",
       "      <td>62</td>\n",
       "      <td>5024402239</td>\n",
       "      <td>5</td>\n",
       "      <td>2019</td>\n",
       "      <td>24400</td>\n",
       "      <td>503</td>\n",
       "      <td>1</td>\n",
       "      <td>31</td>\n",
       "      <td>...</td>\n",
       "      <td>25618.318672</td>\n",
       "      <td>17</td>\n",
       "      <td>5024402239</td>\n",
       "      <td>0.236724</td>\n",
       "      <td>0.241682</td>\n",
       "      <td>0.247116</td>\n",
       "      <td>NaN</td>\n",
       "      <td>NaN</td>\n",
       "      <td>NaN</td>\n",
       "      <td>NaN</td>\n",
       "    </tr>\n",
       "    <tr>\n",
       "      <th>3</th>\n",
       "      <td>23</td>\n",
       "      <td>22</td>\n",
       "      <td>62</td>\n",
       "      <td>5024402227</td>\n",
       "      <td>5</td>\n",
       "      <td>2017</td>\n",
       "      <td>24400</td>\n",
       "      <td>503</td>\n",
       "      <td>1</td>\n",
       "      <td>31</td>\n",
       "      <td>...</td>\n",
       "      <td>25618.318672</td>\n",
       "      <td>22</td>\n",
       "      <td>5024402227</td>\n",
       "      <td>0.237209</td>\n",
       "      <td>0.242145</td>\n",
       "      <td>0.247561</td>\n",
       "      <td>NaN</td>\n",
       "      <td>NaN</td>\n",
       "      <td>NaN</td>\n",
       "      <td>NaN</td>\n",
       "    </tr>\n",
       "    <tr>\n",
       "      <th>4</th>\n",
       "      <td>24</td>\n",
       "      <td>23</td>\n",
       "      <td>62</td>\n",
       "      <td>5024402231</td>\n",
       "      <td>5</td>\n",
       "      <td>2004</td>\n",
       "      <td>24400</td>\n",
       "      <td>503</td>\n",
       "      <td>3</td>\n",
       "      <td>31</td>\n",
       "      <td>...</td>\n",
       "      <td>25618.318672</td>\n",
       "      <td>23</td>\n",
       "      <td>5024402231</td>\n",
       "      <td>0.233416</td>\n",
       "      <td>0.238387</td>\n",
       "      <td>0.243833</td>\n",
       "      <td>NaN</td>\n",
       "      <td>NaN</td>\n",
       "      <td>NaN</td>\n",
       "      <td>NaN</td>\n",
       "    </tr>\n",
       "  </tbody>\n",
       "</table>\n",
       "<p>5 rows × 71 columns</p>\n",
       "</div>"
      ],
      "text/plain": [
       "   id  index  assemdist    atomicid  borough  censusbloc  censustrac  \\\n",
       "0   7      6         62  5024402341        5        3033       24400   \n",
       "1  10      9         62  5024402337        5        3029       24400   \n",
       "2  18     17         62  5024402239        5        2019       24400   \n",
       "3  23     22         62  5024402227        5        2017       24400   \n",
       "4  24     23         62  5024402231        5        2004       24400   \n",
       "\n",
       "   commdist  electdist  schooldist    ...          wealthy  id.6  atomicid.3  \\\n",
       "0       503          1          31    ...     25618.318672     6  5024402341   \n",
       "1       503          1          31    ...     25618.318672     9  5024402337   \n",
       "2       503          1          31    ...     25618.318672    17  5024402239   \n",
       "3       503          1          31    ...     25618.318672    22  5024402227   \n",
       "4       503          3          31    ...     25618.318672    23  5024402231   \n",
       "\n",
       "   mta1_distance  mta2_distance  mta3_distance  id.7  mtaid  atomicid.4  \\\n",
       "0       0.247122       0.252040       0.257438   NaN    NaN         NaN   \n",
       "1       0.243684       0.248622       0.254037   NaN    NaN         NaN   \n",
       "2       0.236724       0.241682       0.247116   NaN    NaN         NaN   \n",
       "3       0.237209       0.242145       0.247561   NaN    NaN         NaN   \n",
       "4       0.233416       0.238387       0.243833   NaN    NaN         NaN   \n",
       "\n",
       "   mtaindex  \n",
       "0       NaN  \n",
       "1       NaN  \n",
       "2       NaN  \n",
       "3       NaN  \n",
       "4       NaN  \n",
       "\n",
       "[5 rows x 71 columns]"
      ]
     },
     "execution_count": 25,
     "metadata": {},
     "output_type": "execute_result"
    }
   ],
   "source": [
    "# IMPORT DATA\n",
    "stations = pd.DataFrame.from_csv('Seventh_try.csv')\n",
    "stations.head()"
   ]
  },
  {
   "cell_type": "code",
   "execution_count": 26,
   "metadata": {
    "collapsed": false
   },
   "outputs": [],
   "source": [
    "# DELETE UNRELEVANT COLUMNS\n",
    "stations = stations.drop(['id', 'index','atomicid',\n",
    "                          'station1_index', 'station2_index', 'station3_index', \n",
    "                          'stationid', 'total_months','as_start_count', 'as_end_count', 'as_start_avg', 'as_end_avg', \n",
    "                          'id.1', 'stationid1', 'id.2', 'stationid2', 'id.3', 'stationid3', 'id.4', 'atomicid.1', \n",
    "                         'atomicid.2', 'id.5' , 'id.6', 'mtaid', 'atomicid.3', 'atomicid.4', 'id.7',\n",
    "                         'censusbloc', 'censustrac', 'electdist','schooldist', 'commdist', 'assemdist'],1) #these were in"
   ]
  },
  {
   "cell_type": "code",
   "execution_count": 27,
   "metadata": {
    "collapsed": true
   },
   "outputs": [],
   "source": [
    "# CREATE A Y \n",
    "def fix(y):\n",
    "    if y > 0:\n",
    "        return True\n",
    "    else:\n",
    "        return False\n",
    "\n",
    "stations['y'] = stations.year.apply(fix)\n",
    "stations =  stations.drop(['year'],1)"
   ]
  },
  {
   "cell_type": "code",
   "execution_count": 28,
   "metadata": {
    "collapsed": false
   },
   "outputs": [
    {
     "data": {
      "text/plain": [
       "False    65399\n",
       "True       736\n",
       "Name: y, dtype: int64"
      ]
     },
     "execution_count": 28,
     "metadata": {},
     "output_type": "execute_result"
    }
   ],
   "source": [
    "stations.y.value_counts()"
   ]
  },
  {
   "cell_type": "code",
   "execution_count": 29,
   "metadata": {
    "collapsed": false
   },
   "outputs": [],
   "source": [
    "# ADJUST VARIABLES \n",
    "stations['MTA'] = stations.mtaindex.apply(fix)\n",
    "stations =  stations.drop(['mtaindex'],1)\n",
    "\n",
    "meandensity = stations.density.mean()\n",
    "stations['density'].fillna(value=meandensity, inplace=True)\n",
    "\n",
    "meanhouse = stations.houseofunits.mean()\n",
    "stations['houseofunits'].fillna(value=meanhouse, inplace=True)\n",
    "\n",
    "meanwages = stations.totalwages.mean()\n",
    "stations['totalwages'].fillna(value=meanwages, inplace=True)\n",
    "\n",
    "stations = stations.fillna(value='X')"
   ]
  },
  {
   "cell_type": "code",
   "execution_count": 53,
   "metadata": {
    "collapsed": false
   },
   "outputs": [],
   "source": [
    "# FOCUS ON MANHATTAN\n",
    "stations = stations[stations.borough != 5] # SI\n",
    "stations = stations[stations.borough != 2] # BX\n",
    "stations = stations[stations.borough != 3] # \n",
    "stations = stations[stations.borough != 4] # "
   ]
  },
  {
   "cell_type": "code",
   "execution_count": 54,
   "metadata": {
    "collapsed": false
   },
   "outputs": [
    {
     "data": {
      "text/plain": [
       "False    8117\n",
       "True      435\n",
       "Name: y, dtype: int64"
      ]
     },
     "execution_count": 54,
     "metadata": {},
     "output_type": "execute_result"
    }
   ],
   "source": [
    "stations.y.value_counts()"
   ]
  },
  {
   "cell_type": "code",
   "execution_count": 55,
   "metadata": {
    "collapsed": false
   },
   "outputs": [],
   "source": [
    "# PREP TO NORMALIZE AND CATEGORIZE\n",
    "stations.water_flag = stations.water_flag.apply(lambda x: str(x))\n",
    "stations.zone_type = stations.zone_type.apply(lambda x: str(x))\n",
    "stations.zipcodes = stations.zipcodes.apply(lambda x: str(x))\n",
    "stations.density = stations.density.apply(lambda x: int(x))\n",
    "stations.totalwages = stations.totalwages.apply(lambda x: int(x))\n",
    "stations.year1 = stations.year1.apply(lambda x: str(x))\n",
    "stations.year2 = stations.year2.apply(lambda x: str(x))\n",
    "stations.year3 = stations.year3.apply(lambda x: str(x))"
   ]
  },
  {
   "cell_type": "code",
   "execution_count": 56,
   "metadata": {
    "collapsed": false
   },
   "outputs": [
    {
     "data": {
      "text/html": [
       "<div>\n",
       "<table border=\"1\" class=\"dataframe\">\n",
       "  <thead>\n",
       "    <tr style=\"text-align: right;\">\n",
       "      <th></th>\n",
       "      <th>Intercept</th>\n",
       "      <th>water_flag[T.2]</th>\n",
       "      <th>water_flag[T.3]</th>\n",
       "      <th>water_flag[T.4]</th>\n",
       "      <th>zone_type[T.C1-3]</th>\n",
       "      <th>zone_type[T.C1-4]</th>\n",
       "      <th>zone_type[T.C1-5]</th>\n",
       "      <th>zone_type[T.C2-4]</th>\n",
       "      <th>zone_type[T.C2-5]</th>\n",
       "      <th>zone_type[T.X]</th>\n",
       "      <th>MTA[T.True]</th>\n",
       "      <th>year1[T.2014]</th>\n",
       "      <th>year1[T.2015]</th>\n",
       "      <th>year1[T.2016]</th>\n",
       "      <th>year2[T.2014]</th>\n",
       "      <th>year2[T.2015]</th>\n",
       "      <th>year2[T.2016]</th>\n",
       "      <th>year3[T.2014]</th>\n",
       "      <th>year3[T.2015]</th>\n",
       "      <th>year3[T.2016]</th>\n",
       "    </tr>\n",
       "  </thead>\n",
       "  <tbody>\n",
       "    <tr>\n",
       "      <th>2305</th>\n",
       "      <td>1.0</td>\n",
       "      <td>1.0</td>\n",
       "      <td>0.0</td>\n",
       "      <td>0.0</td>\n",
       "      <td>0.0</td>\n",
       "      <td>0.0</td>\n",
       "      <td>0.0</td>\n",
       "      <td>0.0</td>\n",
       "      <td>0.0</td>\n",
       "      <td>1.0</td>\n",
       "      <td>0.0</td>\n",
       "      <td>0.0</td>\n",
       "      <td>0.0</td>\n",
       "      <td>0.0</td>\n",
       "      <td>1.0</td>\n",
       "      <td>0.0</td>\n",
       "      <td>0.0</td>\n",
       "      <td>0.0</td>\n",
       "      <td>0.0</td>\n",
       "      <td>0.0</td>\n",
       "    </tr>\n",
       "    <tr>\n",
       "      <th>2395</th>\n",
       "      <td>1.0</td>\n",
       "      <td>1.0</td>\n",
       "      <td>0.0</td>\n",
       "      <td>0.0</td>\n",
       "      <td>0.0</td>\n",
       "      <td>0.0</td>\n",
       "      <td>0.0</td>\n",
       "      <td>0.0</td>\n",
       "      <td>0.0</td>\n",
       "      <td>1.0</td>\n",
       "      <td>0.0</td>\n",
       "      <td>0.0</td>\n",
       "      <td>0.0</td>\n",
       "      <td>0.0</td>\n",
       "      <td>1.0</td>\n",
       "      <td>0.0</td>\n",
       "      <td>0.0</td>\n",
       "      <td>0.0</td>\n",
       "      <td>0.0</td>\n",
       "      <td>0.0</td>\n",
       "    </tr>\n",
       "    <tr>\n",
       "      <th>3004</th>\n",
       "      <td>1.0</td>\n",
       "      <td>1.0</td>\n",
       "      <td>0.0</td>\n",
       "      <td>0.0</td>\n",
       "      <td>0.0</td>\n",
       "      <td>0.0</td>\n",
       "      <td>0.0</td>\n",
       "      <td>0.0</td>\n",
       "      <td>0.0</td>\n",
       "      <td>1.0</td>\n",
       "      <td>0.0</td>\n",
       "      <td>0.0</td>\n",
       "      <td>0.0</td>\n",
       "      <td>0.0</td>\n",
       "      <td>0.0</td>\n",
       "      <td>0.0</td>\n",
       "      <td>0.0</td>\n",
       "      <td>0.0</td>\n",
       "      <td>0.0</td>\n",
       "      <td>1.0</td>\n",
       "    </tr>\n",
       "    <tr>\n",
       "      <th>3012</th>\n",
       "      <td>1.0</td>\n",
       "      <td>1.0</td>\n",
       "      <td>0.0</td>\n",
       "      <td>0.0</td>\n",
       "      <td>0.0</td>\n",
       "      <td>0.0</td>\n",
       "      <td>0.0</td>\n",
       "      <td>0.0</td>\n",
       "      <td>0.0</td>\n",
       "      <td>1.0</td>\n",
       "      <td>0.0</td>\n",
       "      <td>0.0</td>\n",
       "      <td>0.0</td>\n",
       "      <td>0.0</td>\n",
       "      <td>0.0</td>\n",
       "      <td>0.0</td>\n",
       "      <td>1.0</td>\n",
       "      <td>0.0</td>\n",
       "      <td>0.0</td>\n",
       "      <td>0.0</td>\n",
       "    </tr>\n",
       "    <tr>\n",
       "      <th>3056</th>\n",
       "      <td>1.0</td>\n",
       "      <td>1.0</td>\n",
       "      <td>0.0</td>\n",
       "      <td>0.0</td>\n",
       "      <td>0.0</td>\n",
       "      <td>0.0</td>\n",
       "      <td>0.0</td>\n",
       "      <td>0.0</td>\n",
       "      <td>0.0</td>\n",
       "      <td>1.0</td>\n",
       "      <td>0.0</td>\n",
       "      <td>0.0</td>\n",
       "      <td>0.0</td>\n",
       "      <td>0.0</td>\n",
       "      <td>0.0</td>\n",
       "      <td>0.0</td>\n",
       "      <td>0.0</td>\n",
       "      <td>0.0</td>\n",
       "      <td>0.0</td>\n",
       "      <td>0.0</td>\n",
       "    </tr>\n",
       "  </tbody>\n",
       "</table>\n",
       "</div>"
      ],
      "text/plain": [
       "      Intercept  water_flag[T.2]  water_flag[T.3]  water_flag[T.4]  \\\n",
       "2305        1.0              1.0              0.0              0.0   \n",
       "2395        1.0              1.0              0.0              0.0   \n",
       "3004        1.0              1.0              0.0              0.0   \n",
       "3012        1.0              1.0              0.0              0.0   \n",
       "3056        1.0              1.0              0.0              0.0   \n",
       "\n",
       "      zone_type[T.C1-3]  zone_type[T.C1-4]  zone_type[T.C1-5]  \\\n",
       "2305                0.0                0.0                0.0   \n",
       "2395                0.0                0.0                0.0   \n",
       "3004                0.0                0.0                0.0   \n",
       "3012                0.0                0.0                0.0   \n",
       "3056                0.0                0.0                0.0   \n",
       "\n",
       "      zone_type[T.C2-4]  zone_type[T.C2-5]  zone_type[T.X]  MTA[T.True]  \\\n",
       "2305                0.0                0.0             1.0          0.0   \n",
       "2395                0.0                0.0             1.0          0.0   \n",
       "3004                0.0                0.0             1.0          0.0   \n",
       "3012                0.0                0.0             1.0          0.0   \n",
       "3056                0.0                0.0             1.0          0.0   \n",
       "\n",
       "      year1[T.2014]  year1[T.2015]  year1[T.2016]  year2[T.2014]  \\\n",
       "2305            0.0            0.0            0.0            1.0   \n",
       "2395            0.0            0.0            0.0            1.0   \n",
       "3004            0.0            0.0            0.0            0.0   \n",
       "3012            0.0            0.0            0.0            0.0   \n",
       "3056            0.0            0.0            0.0            0.0   \n",
       "\n",
       "      year2[T.2015]  year2[T.2016]  year3[T.2014]  year3[T.2015]  \\\n",
       "2305            0.0            0.0            0.0            0.0   \n",
       "2395            0.0            0.0            0.0            0.0   \n",
       "3004            0.0            0.0            0.0            0.0   \n",
       "3012            0.0            1.0            0.0            0.0   \n",
       "3056            0.0            0.0            0.0            0.0   \n",
       "\n",
       "      year3[T.2016]  \n",
       "2305            0.0  \n",
       "2395            0.0  \n",
       "3004            1.0  \n",
       "3012            0.0  \n",
       "3056            0.0  "
      ]
     },
     "execution_count": 56,
     "metadata": {},
     "output_type": "execute_result"
    }
   ],
   "source": [
    "# CATEGORIZE\n",
    "import patsy\n",
    "from patsy import dmatrices\n",
    "form = 'water_flag+zone_type+MTA+year1+year2+year3'\n",
    "categorical = patsy.dmatrix(form, data=stations,return_type='dataframe')\n",
    "categorical.head()"
   ]
  },
  {
   "cell_type": "code",
   "execution_count": 57,
   "metadata": {
    "collapsed": false
   },
   "outputs": [
    {
     "data": {
      "text/plain": [
       "Index([u'borough', u'shape_area', u'shape_leng', u'water_flag',\n",
       "       u'station1_distance', u'station2_distance', u'station3_distance',\n",
       "       u'year1', u'total_months1', u'as_start_count1', u'as_end_count1',\n",
       "       u'as_start_avg1', u'as_end_avg1', u'year2', u'total_months2',\n",
       "       u'as_start_count2', u'as_end_count2', u'as_start_avg2', u'as_end_avg2',\n",
       "       u'year3', u'total_months3', u'as_start_count3', u'as_end_count3',\n",
       "       u'as_start_avg3', u'as_end_avg3', u'zone_type', u'long', u'lat',\n",
       "       u'zipcodes', u'density', u'houseofunits', u'totalwages', u'wealthy',\n",
       "       u'mta1_distance', u'mta2_distance', u'mta3_distance', u'y', u'MTA'],\n",
       "      dtype='object')"
      ]
     },
     "execution_count": 57,
     "metadata": {},
     "output_type": "execute_result"
    }
   ],
   "source": [
    "stations.columns"
   ]
  },
  {
   "cell_type": "code",
   "execution_count": 61,
   "metadata": {
    "collapsed": true
   },
   "outputs": [],
   "source": [
    "trues = stations[stations['y'] == True]"
   ]
  },
  {
   "cell_type": "code",
   "execution_count": 66,
   "metadata": {
    "collapsed": false
   },
   "outputs": [
    {
     "data": {
      "text/plain": [
       "[<matplotlib.lines.Line2D at 0x122ce9ad0>,\n",
       " <matplotlib.lines.Line2D at 0x122ce9c90>,\n",
       " <matplotlib.lines.Line2D at 0x122cf6390>]"
      ]
     },
     "execution_count": 66,
     "metadata": {},
     "output_type": "execute_result"
    },
    {
     "data": {
      "image/png": "[encoded data removed]",
      "text/plain": [
       "<matplotlib.figure.Figure at 0x122a638d0>"
      ]
     },
     "metadata": {},
     "output_type": "display_data"
    }
   ],
   "source": [
    "# PLOT DISTANCE VARIABLES\n",
    "plt.plot(trues.station1_distance, 'r', trues.station2_distance, 'b', trues.station3_distance, 'g')"
   ]
  },
  {
   "cell_type": "code",
   "execution_count": 35,
   "metadata": {
    "collapsed": false
   },
   "outputs": [],
   "source": [
    "# CONCAT CATEGORICALS WITH ORIGINAL, GET RID OF ORIGINALS \n",
    "stations1 = pd.concat([stations, categorical], 1)\n",
    "stations2 = stations1.drop(['water_flag', 'long','zone_type', 'zipcodes', 'wealthy','MTA','year1','year2','year3'], 1)"
   ]
  },
  {
   "cell_type": "code",
   "execution_count": 36,
   "metadata": {
    "collapsed": false
   },
   "outputs": [
    {
     "data": {
      "text/html": [
       "<div>\n",
       "<table border=\"1\" class=\"dataframe\">\n",
       "  <thead>\n",
       "    <tr style=\"text-align: right;\">\n",
       "      <th></th>\n",
       "      <th>borough</th>\n",
       "      <th>shape_area</th>\n",
       "      <th>shape_leng</th>\n",
       "      <th>station1_distance</th>\n",
       "      <th>station2_distance</th>\n",
       "      <th>station3_distance</th>\n",
       "      <th>total_months1</th>\n",
       "      <th>as_start_count1</th>\n",
       "      <th>as_end_count1</th>\n",
       "      <th>as_start_avg1</th>\n",
       "      <th>...</th>\n",
       "      <th>as_start_avg3</th>\n",
       "      <th>as_end_avg3</th>\n",
       "      <th>long</th>\n",
       "      <th>lat</th>\n",
       "      <th>density</th>\n",
       "      <th>houseofunits</th>\n",
       "      <th>totalwages</th>\n",
       "      <th>mta1_distance</th>\n",
       "      <th>mta2_distance</th>\n",
       "      <th>mta3_distance</th>\n",
       "    </tr>\n",
       "  </thead>\n",
       "  <tbody>\n",
       "    <tr>\n",
       "      <th>count</th>\n",
       "      <td>8552.0</td>\n",
       "      <td>8.552000e+03</td>\n",
       "      <td>8552.000000</td>\n",
       "      <td>8.552000e+03</td>\n",
       "      <td>8552.000000</td>\n",
       "      <td>8552.000000</td>\n",
       "      <td>8552.000000</td>\n",
       "      <td>8552.000000</td>\n",
       "      <td>8552.000000</td>\n",
       "      <td>8552.000000</td>\n",
       "      <td>...</td>\n",
       "      <td>8552.000000</td>\n",
       "      <td>8552.000000</td>\n",
       "      <td>8552.000000</td>\n",
       "      <td>8552.000000</td>\n",
       "      <td>8552.000000</td>\n",
       "      <td>8552.000000</td>\n",
       "      <td>8.552000e+03</td>\n",
       "      <td>8552.000000</td>\n",
       "      <td>8552.000000</td>\n",
       "      <td>8552.000000</td>\n",
       "    </tr>\n",
       "    <tr>\n",
       "      <th>mean</th>\n",
       "      <td>1.0</td>\n",
       "      <td>1.135428e+05</td>\n",
       "      <td>1301.292546</td>\n",
       "      <td>1.116485e-02</td>\n",
       "      <td>0.012071</td>\n",
       "      <td>0.012926</td>\n",
       "      <td>21.238775</td>\n",
       "      <td>56821.833138</td>\n",
       "      <td>57023.453344</td>\n",
       "      <td>2482.472635</td>\n",
       "      <td>...</td>\n",
       "      <td>2005.846209</td>\n",
       "      <td>1991.721204</td>\n",
       "      <td>-73.969610</td>\n",
       "      <td>40.771405</td>\n",
       "      <td>69949.688377</td>\n",
       "      <td>18754.923410</td>\n",
       "      <td>9.070789e+08</td>\n",
       "      <td>0.004316</td>\n",
       "      <td>0.005385</td>\n",
       "      <td>0.006317</td>\n",
       "    </tr>\n",
       "    <tr>\n",
       "      <th>std</th>\n",
       "      <td>0.0</td>\n",
       "      <td>3.742064e+05</td>\n",
       "      <td>1333.240348</td>\n",
       "      <td>1.875842e-02</td>\n",
       "      <td>0.018635</td>\n",
       "      <td>0.018763</td>\n",
       "      <td>17.462017</td>\n",
       "      <td>63084.368282</td>\n",
       "      <td>63469.735638</td>\n",
       "      <td>1689.582348</td>\n",
       "      <td>...</td>\n",
       "      <td>1833.669651</td>\n",
       "      <td>1835.499001</td>\n",
       "      <td>0.028000</td>\n",
       "      <td>0.046435</td>\n",
       "      <td>35492.172284</td>\n",
       "      <td>12087.004129</td>\n",
       "      <td>4.763257e+08</td>\n",
       "      <td>0.003678</td>\n",
       "      <td>0.003768</td>\n",
       "      <td>0.003915</td>\n",
       "    </tr>\n",
       "    <tr>\n",
       "      <th>min</th>\n",
       "      <td>1.0</td>\n",
       "      <td>2.455816e+01</td>\n",
       "      <td>24.064403</td>\n",
       "      <td>3.693828e-08</td>\n",
       "      <td>0.000003</td>\n",
       "      <td>0.000026</td>\n",
       "      <td>1.000000</td>\n",
       "      <td>1.000000</td>\n",
       "      <td>2.000000</td>\n",
       "      <td>0.250000</td>\n",
       "      <td>...</td>\n",
       "      <td>0.250000</td>\n",
       "      <td>0.500000</td>\n",
       "      <td>-74.047292</td>\n",
       "      <td>40.683634</td>\n",
       "      <td>0.000000</td>\n",
       "      <td>0.000000</td>\n",
       "      <td>1.000112e+07</td>\n",
       "      <td>0.000000</td>\n",
       "      <td>0.000000</td>\n",
       "      <td>0.000000</td>\n",
       "    </tr>\n",
       "    <tr>\n",
       "      <th>25%</th>\n",
       "      <td>1.0</td>\n",
       "      <td>6.674455e+03</td>\n",
       "      <td>571.065047</td>\n",
       "      <td>7.492427e-04</td>\n",
       "      <td>0.001607</td>\n",
       "      <td>0.002230</td>\n",
       "      <td>4.000000</td>\n",
       "      <td>6925.000000</td>\n",
       "      <td>6753.000000</td>\n",
       "      <td>1202.500000</td>\n",
       "      <td>...</td>\n",
       "      <td>797.750000</td>\n",
       "      <td>749.250000</td>\n",
       "      <td>-73.994012</td>\n",
       "      <td>40.730668</td>\n",
       "      <td>50363.000000</td>\n",
       "      <td>10211.000000</td>\n",
       "      <td>6.041879e+08</td>\n",
       "      <td>0.001663</td>\n",
       "      <td>0.002713</td>\n",
       "      <td>0.003433</td>\n",
       "    </tr>\n",
       "    <tr>\n",
       "      <th>50%</th>\n",
       "      <td>1.0</td>\n",
       "      <td>3.314119e+04</td>\n",
       "      <td>1063.512916</td>\n",
       "      <td>1.799785e-03</td>\n",
       "      <td>0.002762</td>\n",
       "      <td>0.003616</td>\n",
       "      <td>15.000000</td>\n",
       "      <td>29253.000000</td>\n",
       "      <td>27222.000000</td>\n",
       "      <td>2307.071429</td>\n",
       "      <td>...</td>\n",
       "      <td>1698.400000</td>\n",
       "      <td>1661.634146</td>\n",
       "      <td>-73.971938</td>\n",
       "      <td>40.766835</td>\n",
       "      <td>72554.000000</td>\n",
       "      <td>16506.000000</td>\n",
       "      <td>7.867839e+08</td>\n",
       "      <td>0.003262</td>\n",
       "      <td>0.004609</td>\n",
       "      <td>0.005800</td>\n",
       "    </tr>\n",
       "    <tr>\n",
       "      <th>75%</th>\n",
       "      <td>1.0</td>\n",
       "      <td>1.269684e+05</td>\n",
       "      <td>1629.306569</td>\n",
       "      <td>1.465174e-02</td>\n",
       "      <td>0.015403</td>\n",
       "      <td>0.017085</td>\n",
       "      <td>41.000000</td>\n",
       "      <td>93743.000000</td>\n",
       "      <td>95654.000000</td>\n",
       "      <td>3287.463415</td>\n",
       "      <td>...</td>\n",
       "      <td>2771.365854</td>\n",
       "      <td>2761.512195</td>\n",
       "      <td>-73.944417</td>\n",
       "      <td>40.805094</td>\n",
       "      <td>92511.000000</td>\n",
       "      <td>30368.000000</td>\n",
       "      <td>1.270484e+09</td>\n",
       "      <td>0.006056</td>\n",
       "      <td>0.007491</td>\n",
       "      <td>0.008461</td>\n",
       "    </tr>\n",
       "    <tr>\n",
       "      <th>max</th>\n",
       "      <td>1.0</td>\n",
       "      <td>1.197165e+07</td>\n",
       "      <td>24190.716058</td>\n",
       "      <td>9.019626e-02</td>\n",
       "      <td>0.090850</td>\n",
       "      <td>0.091145</td>\n",
       "      <td>41.000000</td>\n",
       "      <td>397813.000000</td>\n",
       "      <td>359122.000000</td>\n",
       "      <td>23966.000000</td>\n",
       "      <td>...</td>\n",
       "      <td>23966.000000</td>\n",
       "      <td>24874.600000</td>\n",
       "      <td>-73.906928</td>\n",
       "      <td>40.878888</td>\n",
       "      <td>145616.000000</td>\n",
       "      <td>47617.000000</td>\n",
       "      <td>2.084544e+09</td>\n",
       "      <td>0.035498</td>\n",
       "      <td>0.036253</td>\n",
       "      <td>0.036391</td>\n",
       "    </tr>\n",
       "  </tbody>\n",
       "</table>\n",
       "<p>8 rows × 29 columns</p>\n",
       "</div>"
      ],
      "text/plain": [
       "       borough    shape_area    shape_leng  station1_distance  \\\n",
       "count   8552.0  8.552000e+03   8552.000000       8.552000e+03   \n",
       "mean       1.0  1.135428e+05   1301.292546       1.116485e-02   \n",
       "std        0.0  3.742064e+05   1333.240348       1.875842e-02   \n",
       "min        1.0  2.455816e+01     24.064403       3.693828e-08   \n",
       "25%        1.0  6.674455e+03    571.065047       7.492427e-04   \n",
       "50%        1.0  3.314119e+04   1063.512916       1.799785e-03   \n",
       "75%        1.0  1.269684e+05   1629.306569       1.465174e-02   \n",
       "max        1.0  1.197165e+07  24190.716058       9.019626e-02   \n",
       "\n",
       "       station2_distance  station3_distance  total_months1  as_start_count1  \\\n",
       "count        8552.000000        8552.000000    8552.000000      8552.000000   \n",
       "mean            0.012071           0.012926      21.238775     56821.833138   \n",
       "std             0.018635           0.018763      17.462017     63084.368282   \n",
       "min             0.000003           0.000026       1.000000         1.000000   \n",
       "25%             0.001607           0.002230       4.000000      6925.000000   \n",
       "50%             0.002762           0.003616      15.000000     29253.000000   \n",
       "75%             0.015403           0.017085      41.000000     93743.000000   \n",
       "max             0.090850           0.091145      41.000000    397813.000000   \n",
       "\n",
       "       as_end_count1  as_start_avg1      ...        as_start_avg3  \\\n",
       "count    8552.000000    8552.000000      ...          8552.000000   \n",
       "mean    57023.453344    2482.472635      ...          2005.846209   \n",
       "std     63469.735638    1689.582348      ...          1833.669651   \n",
       "min         2.000000       0.250000      ...             0.250000   \n",
       "25%      6753.000000    1202.500000      ...           797.750000   \n",
       "50%     27222.000000    2307.071429      ...          1698.400000   \n",
       "75%     95654.000000    3287.463415      ...          2771.365854   \n",
       "max    359122.000000   23966.000000      ...         23966.000000   \n",
       "\n",
       "        as_end_avg3         long          lat        density  houseofunits  \\\n",
       "count   8552.000000  8552.000000  8552.000000    8552.000000   8552.000000   \n",
       "mean    1991.721204   -73.969610    40.771405   69949.688377  18754.923410   \n",
       "std     1835.499001     0.028000     0.046435   35492.172284  12087.004129   \n",
       "min        0.500000   -74.047292    40.683634       0.000000      0.000000   \n",
       "25%      749.250000   -73.994012    40.730668   50363.000000  10211.000000   \n",
       "50%     1661.634146   -73.971938    40.766835   72554.000000  16506.000000   \n",
       "75%     2761.512195   -73.944417    40.805094   92511.000000  30368.000000   \n",
       "max    24874.600000   -73.906928    40.878888  145616.000000  47617.000000   \n",
       "\n",
       "         totalwages  mta1_distance  mta2_distance  mta3_distance  \n",
       "count  8.552000e+03    8552.000000    8552.000000    8552.000000  \n",
       "mean   9.070789e+08       0.004316       0.005385       0.006317  \n",
       "std    4.763257e+08       0.003678       0.003768       0.003915  \n",
       "min    1.000112e+07       0.000000       0.000000       0.000000  \n",
       "25%    6.041879e+08       0.001663       0.002713       0.003433  \n",
       "50%    7.867839e+08       0.003262       0.004609       0.005800  \n",
       "75%    1.270484e+09       0.006056       0.007491       0.008461  \n",
       "max    2.084544e+09       0.035498       0.036253       0.036391  \n",
       "\n",
       "[8 rows x 29 columns]"
      ]
     },
     "execution_count": 36,
     "metadata": {},
     "output_type": "execute_result"
    }
   ],
   "source": [
    "# NORMALIZE\n",
    "stations3 = preprocessing.normalize(stations2, axis=0,norm='max')\n",
    "stations3 = pd.DataFrame(stations3, columns=stations2.columns)\n",
    "stations.describe()"
   ]
  },
  {
   "cell_type": "code",
   "execution_count": 37,
   "metadata": {
    "collapsed": false
   },
   "outputs": [
    {
     "data": {
      "text/plain": [
       "(8552, 49)"
      ]
     },
     "execution_count": 37,
     "metadata": {},
     "output_type": "execute_result"
    }
   ],
   "source": [
    "stations3.shape"
   ]
  },
  {
   "cell_type": "markdown",
   "metadata": {},
   "source": [
    "# SPLIT AND BALANCE"
   ]
  },
  {
   "cell_type": "code",
   "execution_count": 38,
   "metadata": {
    "collapsed": false
   },
   "outputs": [],
   "source": [
    "# SPLIT AND BALANCE DATA\n",
    "X = stations3.drop(['y'],1)\n",
    "Y = stations3['y']\n",
    "\n",
    "X_train, X_test, Y_train, Y_test = train_test_split(X, Y, test_size=.30)\n",
    "\n",
    "sm = SMOTE(kind='regular')\n",
    "X_train, Y_train = sm.fit_sample(X_train, Y_train)"
   ]
  },
  {
   "cell_type": "markdown",
   "metadata": {},
   "source": [
    "# DECISION TREE"
   ]
  },
  {
   "cell_type": "code",
   "execution_count": 39,
   "metadata": {
    "collapsed": false
   },
   "outputs": [
    {
     "name": "stdout",
     "output_type": "stream",
     "text": [
      "Decision Tree accuracy: 0.9014\n"
     ]
    }
   ],
   "source": [
    "from sklearn.tree import DecisionTreeClassifier\n",
    "modelT = DecisionTreeClassifier().fit(X_train, Y_train)\n",
    "Y_test_pred = modelT.predict(X_test)\n",
    "print 'Decision Tree accuracy: %.4f' % accuracy_score(Y_test, Y_test_pred)"
   ]
  },
  {
   "cell_type": "code",
   "execution_count": 40,
   "metadata": {
    "collapsed": false
   },
   "outputs": [
    {
     "name": "stdout",
     "output_type": "stream",
     "text": [
      "('shape_area', 0.34559076072472739)\n",
      "('station2_distance', 0.19072918980220105)\n",
      "('lat', 0.054993796640750214)\n",
      "('station1_distance', 0.054208979487586878)\n",
      "('station3_distance', 0.033696196241815191)\n",
      "('as_start_avg1', 0.029198538060596003)\n",
      "('mta2_distance', 0.026532173278305288)\n",
      "('water_flag[T.2]', 0.020345416483844067)\n",
      "('mta3_distance', 0.020064099941627424)\n",
      "('mta1_distance', 0.019932923188647495)\n",
      "('total_months1', 0.019868779697637302)\n",
      "('as_end_count1', 0.016310896290530751)\n",
      "('as_start_count3', 0.016218398184713292)\n",
      "('shape_leng', 0.014406341551782886)\n",
      "('houseofunits', 0.013766759370633704)\n",
      "('as_end_count2', 0.013701017531027015)\n",
      "('as_start_count2', 0.01096000167169558)\n",
      "('as_start_count1', 0.010673254807063378)\n",
      "('as_end_avg3', 0.010481814636636382)\n",
      "('totalwages', 0.0092205563973622798)\n",
      "('as_end_count3', 0.0091955158363086816)\n",
      "('density', 0.0084533858248598808)\n",
      "('as_start_avg3', 0.0080613992709225018)\n",
      "('as_start_avg2', 0.0079176102619400567)\n",
      "('as_end_avg2', 0.0078604816886582527)\n",
      "('as_end_avg1', 0.0051670527756396082)\n",
      "('year1[T.2014]', 0.0045549742780413459)\n",
      "('total_months2', 0.0045386776023807395)\n",
      "('year2[T.2014]', 0.0034108505806673163)\n",
      "('total_months3', 0.0024641019298756637)\n",
      "('zone_type[T.C1-5]', 0.0017694047246343343)\n",
      "('year3[T.2015]', 0.0014325294441971473)\n",
      "('year1[T.2015]', 0.0010722041984512192)\n",
      "('year3[T.2014]', 0.00095394054794294971)\n",
      "('zone_type[T.C2-5]', 0.00091448764892243983)\n",
      "('year2[T.2016]', 0.00048715215378406532)\n",
      "('water_flag[T.3]', 0.0004024853470178351)\n",
      "('zone_type[T.X]', 0.00031304415879164954)\n",
      "('year2[T.2015]', 0.00013080773778079659)\n",
      "('year3[T.2016]', 0.0)\n",
      "('year1[T.2016]', 0.0)\n",
      "('MTA[T.True]', 0.0)\n",
      "('zone_type[T.C2-4]', 0.0)\n",
      "('zone_type[T.C1-4]', 0.0)\n",
      "('zone_type[T.C1-3]', 0.0)\n",
      "('water_flag[T.4]', 0.0)\n",
      "('Intercept', 0.0)\n",
      "('borough', 0.0)\n"
     ]
    }
   ],
   "source": [
    "# FEATURE IMPORTANCE\n",
    "features = zip(X.columns, modelT.feature_importances_)\n",
    "sorted_features= sorted(features, key=lambda x: x[1])\n",
    "for i in reversed(sorted_features):\n",
    "    print i"
   ]
  },
  {
   "cell_type": "markdown",
   "metadata": {},
   "source": [
    "# RANDOM FOREST "
   ]
  },
  {
   "cell_type": "code",
   "execution_count": 41,
   "metadata": {
    "collapsed": false
   },
   "outputs": [
    {
     "name": "stdout",
     "output_type": "stream",
     "text": [
      "Random Forest accuracy: 0.9349\n"
     ]
    }
   ],
   "source": [
    "# PURE RANDOM FOREST\n",
    "from sklearn.ensemble import RandomForestClassifier\n",
    "modelRF = RandomForestClassifier().fit(X_train, Y_train)\n",
    "Y_test_pred = modelRF.predict(X_test)\n",
    "print 'Random Forest accuracy: %.4f' % accuracy_score(Y_test, Y_test_pred)"
   ]
  },
  {
   "cell_type": "markdown",
   "metadata": {
    "collapsed": true
   },
   "source": [
    "# GRID SEARCH"
   ]
  },
  {
   "cell_type": "code",
   "execution_count": 55,
   "metadata": {
    "collapsed": false
   },
   "outputs": [
    {
     "name": "stdout",
     "output_type": "stream",
     "text": [
      "Fitting 10 folds for each of 116 candidates, totalling 1160 fits\n"
     ]
    },
    {
     "name": "stderr",
     "output_type": "stream",
     "text": [
      "[Parallel(n_jobs=1)]: Done 1160 out of 1160 | elapsed:  8.2min finished\n"
     ]
    },
    {
     "data": {
      "text/plain": [
       "GridSearchCV(cv=10, error_score='raise',\n",
       "       estimator=RandomForestClassifier(bootstrap=True, class_weight=None, criterion='gini',\n",
       "            max_depth=None, max_features='auto', max_leaf_nodes=None,\n",
       "            min_impurity_split=1e-07, min_samples_leaf=1,\n",
       "            min_samples_split=2, min_weight_fraction_leaf=0.0,\n",
       "            n_estimators=10, n_jobs=1, oob_score=False, random_state=None,\n",
       "            verbose=0, warm_start=False),\n",
       "       fit_params={}, iid=True, n_jobs=1,\n",
       "       param_grid={'min_samples_split': [2], 'n_estimators': array([ 1,  2,  3,  4,  5,  6,  7,  8,  9, 10, 11, 12, 13, 14, 15, 16, 17,\n",
       "       18, 19, 20, 21, 22, 23, 24, 25, 26, 27, 28, 29]), 'min_samples_leaf': array([1, 2, 3, 4])},\n",
       "       pre_dispatch='2*n_jobs', refit=True, scoring=None, verbose=1)"
      ]
     },
     "execution_count": 55,
     "metadata": {},
     "output_type": "execute_result"
    }
   ],
   "source": [
    "# SEARCH THE GRID\n",
    "param_grid = {'min_samples_split': [2], 'min_samples_leaf' : np.arange(1, 5),'n_estimators' : np.arange(1, 30)}\n",
    "np.set_printoptions(suppress=True)\n",
    "grid_search = GridSearchCV(RandomForestClassifier(), param_grid, verbose=1, cv=10)\n",
    "grid_search.fit(X_train, Y_train)"
   ]
  },
  {
   "cell_type": "code",
   "execution_count": 56,
   "metadata": {
    "collapsed": false
   },
   "outputs": [
    {
     "data": {
      "text/plain": [
       "{'min_samples_leaf': 1, 'min_samples_split': 2, 'n_estimators': 24}"
      ]
     },
     "execution_count": 56,
     "metadata": {},
     "output_type": "execute_result"
    }
   ],
   "source": [
    "grid_search.best_params_"
   ]
  },
  {
   "cell_type": "code",
   "execution_count": 42,
   "metadata": {
    "collapsed": false
   },
   "outputs": [
    {
     "name": "stdout",
     "output_type": "stream",
     "text": [
      "Random Forest accuracy: 0.9365\n"
     ]
    }
   ],
   "source": [
    "# RANDOM FOREST WITH GRID\n",
    "from sklearn.ensemble import RandomForestClassifier\n",
    "modelRFG1 = RandomForestClassifier(min_samples_leaf=1, min_samples_split=2, n_estimators=24).fit(X_train, Y_train)\n",
    "Y_test_pred = modelRFG1.predict(X_test)\n",
    "print 'Random Forest accuracy: %.4f' % accuracy_score(Y_test, Y_test_pred)"
   ]
  },
  {
   "cell_type": "code",
   "execution_count": 43,
   "metadata": {
    "collapsed": false
   },
   "outputs": [
    {
     "name": "stdout",
     "output_type": "stream",
     "text": [
      "Random Forest accuracy: 0.9349\n"
     ]
    }
   ],
   "source": [
    "# RANDOM FOREST WITH GRID II\n",
    "from sklearn.ensemble import RandomForestClassifier\n",
    "modelRFG2 = RandomForestClassifier(min_samples_leaf=1, min_samples_split=2, n_estimators=26).fit(X_train, Y_train)\n",
    "Y_test_pred = modelRFG2.predict(X_test)\n",
    "print 'Random Forest accuracy: %.4f' % accuracy_score(Y_test, Y_test_pred)"
   ]
  },
  {
   "cell_type": "code",
   "execution_count": 44,
   "metadata": {
    "collapsed": false,
    "scrolled": false
   },
   "outputs": [
    {
     "name": "stdout",
     "output_type": "stream",
     "text": [
      "\n",
      "\n",
      "DecisionTreeClassifier\n",
      "--------------------\n",
      "\n",
      "classification report\n",
      "             precision    recall  f1-score   support\n",
      "\n",
      "        0.0       0.98      0.92      0.95      2438\n",
      "        1.0       0.28      0.59      0.38       128\n",
      "\n",
      "avg / total       0.94      0.90      0.92      2566\n",
      "\n",
      "\n",
      "   accuracy score             0.9018 \n",
      "   precision score            0.2754 \n",
      "   recall score               0.5938 \n",
      "   f1 score                   0.3762 \n",
      "\n",
      "\n",
      "RandomForestClassifier\n",
      "--------------------\n",
      "\n",
      "classification report\n",
      "             precision    recall  f1-score   support\n",
      "\n",
      "        0.0       0.97      0.96      0.97      2438\n",
      "        1.0       0.38      0.46      0.42       128\n",
      "\n",
      "avg / total       0.94      0.94      0.94      2566\n",
      "\n",
      "\n",
      "   accuracy score             0.9353 \n",
      "   precision score            0.3782 \n",
      "   recall score               0.4609 \n",
      "   f1 score                   0.4155 \n",
      "\n",
      "\n",
      "RandomForestClassifier\n",
      "--------------------\n",
      "\n",
      "classification report\n",
      "             precision    recall  f1-score   support\n",
      "\n",
      "        0.0       0.97      0.96      0.97      2438\n",
      "        1.0       0.38      0.45      0.41       128\n",
      "\n",
      "avg / total       0.94      0.94      0.94      2566\n",
      "\n",
      "\n",
      "   accuracy score             0.9361 \n",
      "   precision score            0.3816 \n",
      "   recall score               0.4531 \n",
      "   f1 score                   0.4143 \n",
      "\n",
      "\n",
      "RandomForestClassifier\n",
      "--------------------\n",
      "\n",
      "classification report\n",
      "             precision    recall  f1-score   support\n",
      "\n",
      "        0.0       0.97      0.96      0.97      2438\n",
      "        1.0       0.41      0.51      0.45       128\n",
      "\n",
      "avg / total       0.95      0.94      0.94      2566\n",
      "\n",
      "\n",
      "   accuracy score             0.9392 \n",
      "   precision score            0.4114 \n",
      "   recall score               0.5078 \n",
      "   f1 score                   0.4545 \n"
     ]
    }
   ],
   "source": [
    "y_obs = Y_test\n",
    "\n",
    "accuracy_dict = dict()\n",
    "precision_dict = dict()\n",
    "recall_dict = dict()\n",
    "f1_dict = dict()\n",
    " \n",
    "for algorithm in [DecisionTreeClassifier(),\n",
    "                  RandomForestClassifier(), \n",
    "            RandomForestClassifier(min_samples_leaf=1, min_samples_split=2, n_estimators=24),\n",
    "            RandomForestClassifier(min_samples_leaf=1, min_samples_split=2, n_estimators=26)]:\n",
    "\n",
    "     \n",
    "    algorithm.fit(X_train, Y_train)\n",
    "    y_pred = algorithm.predict(X_test)\n",
    "    alg_label = str(algorithm)\n",
    "    alg_label = alg_label[:alg_label.index('(')]\n",
    "    \n",
    "    # create dictionary of stats\n",
    "    accuracy_dict[alg_label] = accuracy_score(y_obs, y_pred)\n",
    "    precision_dict[alg_label] = precision_score(y_obs, y_pred)\n",
    "    recall_dict[alg_label] = recall_score(y_obs, y_pred)\n",
    "    f1_dict[alg_label] = f1_score(y_obs, y_pred)\n",
    "\n",
    "    print '\\n'\n",
    "    print alg_label\n",
    "    print '-'*20\n",
    "    print\n",
    "    print \"classification report\"\n",
    "    print classification_report(y_obs, y_pred)\n",
    "    print\n",
    "    print '   accuracy score             %.4f ' % (accuracy_score(y_obs, y_pred))\n",
    "    print '   precision score            %.4f ' % precision_score(y_obs, y_pred)\n",
    "    print '   recall score               %.4f ' % recall_score(y_obs, y_pred)\n",
    "    print '   f1 score                   %.4f ' % f1_score(y_obs, y_pred)\n",
    "    \n",
    "def print_items(dictionary):\n",
    "    for k,v in dictionary.iteritems():\n",
    "        spaces = 30-len(k)\n",
    "        newclf = k + ' '*spaces\n",
    "        print '  %s %.4f' % (newclf, v)"
   ]
  },
  {
   "cell_type": "code",
   "execution_count": 45,
   "metadata": {
    "collapsed": false
   },
   "outputs": [
    {
     "name": "stdout",
     "output_type": "stream",
     "text": [
      "('station3_distance', 0.17383303256595445)\n",
      "('shape_area', 0.14491723530776829)\n",
      "('station2_distance', 0.089426756541854127)\n",
      "('shape_leng', 0.071353214979900964)\n",
      "('lat', 0.057264744384285957)\n",
      "('station1_distance', 0.035487134515311256)\n",
      "('as_end_avg3', 0.032692775846969876)\n",
      "('mta1_distance', 0.032066313630980926)\n",
      "('mta2_distance', 0.030395508136984484)\n",
      "('as_start_avg3', 0.029216559469458663)\n",
      "('houseofunits', 0.023920217819707181)\n",
      "('as_start_count1', 0.022476689345211458)\n",
      "('mta3_distance', 0.021255945199685763)\n",
      "('totalwages', 0.021209679489904078)\n",
      "('as_start_count3', 0.018728393159456295)\n",
      "('as_start_avg1', 0.018445513444154148)\n",
      "('as_start_count2', 0.016840556206850345)\n",
      "('as_end_count1', 0.015422911691263835)\n",
      "('as_start_avg2', 0.015056289788177251)\n",
      "('as_end_avg1', 0.015053931857232975)\n",
      "('as_end_count3', 0.014956337856639954)\n",
      "('density', 0.014234434532173056)\n",
      "('as_end_avg2', 0.013623067332989819)\n",
      "('total_months1', 0.010938913112628701)\n",
      "('as_end_count2', 0.010730187079437389)\n",
      "('total_months2', 0.010029740111184097)\n",
      "('total_months3', 0.0077731186389794924)\n",
      "('water_flag[T.2]', 0.0063639496347471739)\n",
      "('year2[T.2016]', 0.005381968435751238)\n",
      "('year3[T.2016]', 0.002552937754223637)\n",
      "('year3[T.2015]', 0.0025325584060992808)\n",
      "('MTA[T.True]', 0.0023556258645723951)\n",
      "('year1[T.2016]', 0.0023281162525410422)\n",
      "('year1[T.2014]', 0.0020860457902741707)\n",
      "('year1[T.2015]', 0.001966787826443721)\n",
      "('year2[T.2015]', 0.0019451462967561967)\n",
      "('year2[T.2014]', 0.0017288149668305865)\n",
      "('year3[T.2014]', 0.001583140802712701)\n",
      "('zone_type[T.X]', 0.00090816863604851941)\n",
      "('water_flag[T.3]', 0.00038152946652598681)\n",
      "('zone_type[T.C2-5]', 0.00027088625735337567)\n",
      "('zone_type[T.C1-5]', 0.00016215471091400301)\n",
      "('water_flag[T.4]', 6.6742951685171335e-05)\n",
      "('zone_type[T.C1-4]', 3.6223901375961754e-05)\n",
      "('zone_type[T.C2-4]', 0.0)\n",
      "('zone_type[T.C1-3]', 0.0)\n",
      "('Intercept', 0.0)\n",
      "('borough', 0.0)\n"
     ]
    }
   ],
   "source": [
    "features = zip(X.columns, modelRF.feature_importances_)\n",
    "sorted_features= sorted(features, key=lambda x: x[1])\n",
    "for i in reversed(sorted_features):\n",
    "    print i"
   ]
  },
  {
   "cell_type": "code",
   "execution_count": 70,
   "metadata": {
    "collapsed": false
   },
   "outputs": [
    {
     "name": "stdout",
     "output_type": "stream",
     "text": [
      "col_0   0.0  1.0\n",
      "y               \n",
      "0.0    2346   92\n",
      "1.0      75   53\n"
     ]
    }
   ],
   "source": [
    "# CONFUSION MATRIX\n",
    "df_confusion = pd.crosstab(Y_test, Y_test_pred)\n",
    "print df_confusion"
   ]
  },
  {
   "cell_type": "code",
   "execution_count": null,
   "metadata": {
    "collapsed": true
   },
   "outputs": [],
   "source": []
  }
 ],
 "metadata": {
  "anaconda-cloud": {},
  "kernelspec": {
   "display_name": "Python [conda root]",
   "language": "python",
   "name": "conda-root-py"
  },
  "language_info": {
   "codemirror_mode": {
    "name": "ipython",
    "version": 2
   },
   "file_extension": ".py",
   "mimetype": "text/x-python",
   "name": "python",
   "nbconvert_exporter": "python",
   "pygments_lexer": "ipython2",
   "version": "2.7.12"
  }
 },
 "nbformat": 4,
 "nbformat_minor": 1
}
